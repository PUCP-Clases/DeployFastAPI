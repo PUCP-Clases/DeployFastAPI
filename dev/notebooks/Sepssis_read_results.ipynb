{
 "cells": [
  {
   "cell_type": "code",
   "execution_count": 1,
   "metadata": {},
   "outputs": [],
   "source": [
    "import pandas as pd\n",
    "import json\n",
    "\n",
    "results_path = r'C:\\Users\\jjuua\\Downloads\\response_1694030057057.json'\n",
    "with open(results_path, 'r') as json_file:\n",
    "    data = json.load(json_file)"
   ]
  },
  {
   "cell_type": "code",
   "execution_count": 10,
   "metadata": {},
   "outputs": [
    {
     "data": {
      "text/plain": [
       "{'0': {'inputs': {'Plasma Glucose': 1,\n",
       "   'Blood Work Result-1': 109,\n",
       "   'Blood Pressure': 38,\n",
       "   'Blood Work Result-2': 18,\n",
       "   'Blood Work Result-3': 120,\n",
       "   'Body Mass Index': 23.1,\n",
       "   'Blood Work Result-4': 0.407,\n",
       "   'Age': 26,\n",
       "   'Insurance': 1},\n",
       "  'output': {'Predicted Label': 'Sepsis status is Negative'}}}"
      ]
     },
     "execution_count": 10,
     "metadata": {},
     "output_type": "execute_result"
    }
   ],
   "source": [
    "data[\"results\"][0]"
   ]
  },
  {
   "cell_type": "code",
   "execution_count": 15,
   "metadata": {},
   "outputs": [
    {
     "name": "stdout",
     "output_type": "stream",
     "text": [
      "     Plasma Glucose  Blood Work Result-1  Blood Pressure  Blood Work Result-2  \\\n",
      "0                 1                  109              38                   18   \n",
      "1                 1                  108              88                   19   \n",
      "2                 6                   96               0                    0   \n",
      "3                 1                  124              74                   36   \n",
      "4                 7                  150              78                   29   \n",
      "..              ...                  ...             ...                  ...   \n",
      "164              10                  101              76                   48   \n",
      "165               2                  122              70                   27   \n",
      "166               5                  121              72                   23   \n",
      "167               1                  126              60                    0   \n",
      "168               1                   93              70                   31   \n",
      "\n",
      "     Blood Work Result-3  Body Mass Index  Blood Work Result-4  Age  \\\n",
      "0                    120             23.1                0.407   26   \n",
      "1                      0             27.1                0.400   24   \n",
      "2                      0             23.7                0.190   28   \n",
      "3                      0             27.8                0.100   30   \n",
      "4                    126             35.2                0.692   54   \n",
      "..                   ...              ...                  ...  ...   \n",
      "164                  180             32.9                0.171   63   \n",
      "165                    0             36.8                0.340   27   \n",
      "166                  112             26.2                0.245   30   \n",
      "167                    0             30.1                0.349   47   \n",
      "168                    0             30.4                0.315   23   \n",
      "\n",
      "     Insurance            Predicted Label  \n",
      "0            1  Sepsis status is Negative  \n",
      "1            1  Sepsis status is Negative  \n",
      "2            1  Sepsis status is Negative  \n",
      "3            1  Sepsis status is Negative  \n",
      "4            0  Sepsis status is Positive  \n",
      "..         ...                        ...  \n",
      "164          1  Sepsis status is Negative  \n",
      "165          1  Sepsis status is Negative  \n",
      "166          1  Sepsis status is Negative  \n",
      "167          1  Sepsis status is Positive  \n",
      "168          1  Sepsis status is Negative  \n",
      "\n",
      "[169 rows x 10 columns]\n"
     ]
    }
   ],
   "source": [
    "import pandas as pd\n",
    "import json\n",
    "\n",
    "results_path = r'C:\\Users\\jjuua\\Downloads\\response_1694030057057.json'\n",
    "with open(results_path, 'r') as json_file:\n",
    "    data = json.load(json_file)\n",
    "\n",
    "# Extract the \"results\" key from the parsed data\n",
    "results_data = data[\"results\"]\n",
    "\n",
    "# Create an empty list to store individual records\n",
    "records = []\n",
    "\n",
    "# Iterate through the results and extract inputs and output\n",
    "for result in results_data:\n",
    "    for key, value in result.items():\n",
    "        inputs = value.get(\"inputs\", {})\n",
    "        output = value.get(\"output\", {})\n",
    "        record = {**inputs, **output}\n",
    "        records.append(record)\n",
    "\n",
    "# Create a DataFrame from the list of records\n",
    "df = pd.DataFrame(records)\n",
    "\n",
    "# Print the DataFrame\n",
    "print(df)\n",
    "\n"
   ]
  },
  {
   "cell_type": "code",
   "execution_count": 17,
   "metadata": {},
   "outputs": [
    {
     "data": {
      "text/plain": [
       "(169, 10)"
      ]
     },
     "execution_count": 17,
     "metadata": {},
     "output_type": "execute_result"
    }
   ],
   "source": [
    "df.shape"
   ]
  }
 ],
 "metadata": {
  "kernelspec": {
   "display_name": "venv",
   "language": "python",
   "name": "python3"
  },
  "language_info": {
   "codemirror_mode": {
    "name": "ipython",
    "version": 3
   },
   "file_extension": ".py",
   "mimetype": "text/x-python",
   "name": "python",
   "nbconvert_exporter": "python",
   "pygments_lexer": "ipython3",
   "version": "3.9.5"
  },
  "orig_nbformat": 4
 },
 "nbformat": 4,
 "nbformat_minor": 2
}
